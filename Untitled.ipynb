{
 "cells": [
  {
   "cell_type": "markdown",
   "metadata": {},
   "source": [
    "## Investigating the role of ZKT gene in wound induce resistance\n",
    "In 2005, ishikawa et al claimed that zkt is a gene which is involved in wound induce resistance and it contains  PDZ domain, ser rich region, TPR region and K-box region. \n",
    "By taking these studies into account, we have developed strategies to investigate the role of zkt using the following objectives\n",
    "* By determining the sub-cellular localization upon wounding \n",
    "* By checking the transcript abundance of genes involved in different resistance pathways\n",
    "* By protein accumulation of zkt using western blotting \n",
    "\n"
   ]
  },
  {
   "cell_type": "markdown",
   "metadata": {},
   "source": []
  },
  {
   "cell_type": "code",
   "execution_count": null,
   "metadata": {
    "collapsed": true
   },
   "outputs": [],
   "source": []
  }
 ],
 "metadata": {
  "anaconda-cloud": {},
  "kernelspec": {
   "display_name": "Python [conda root]",
   "language": "python",
   "name": "conda-root-py"
  },
  "language_info": {
   "codemirror_mode": {
    "name": "ipython",
    "version": 3
   },
   "file_extension": ".py",
   "mimetype": "text/x-python",
   "name": "python",
   "nbconvert_exporter": "python",
   "pygments_lexer": "ipython3",
   "version": "3.5.2"
  }
 },
 "nbformat": 4,
 "nbformat_minor": 1
}
